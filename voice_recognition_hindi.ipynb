{
 "cells": [
  {
   "cell_type": "code",
   "execution_count": 26,
   "metadata": {},
   "outputs": [],
   "source": [
    "import wave\n",
    "import matplotlib.pyplot as plt\n",
    "import numpy as np\n",
    "import pyaudio\n",
    "import os\n",
    "import pandas as pd\n",
    "import IPython as ipd\n",
    "import librosa\n"
   ]
  },
  {
   "cell_type": "code",
   "execution_count": 3,
   "metadata": {},
   "outputs": [],
   "source": [
    "AUDIO_PATH = \"/Users/Jerin Kuriakose/Downloads/hindi_voice\""
   ]
  },
  {
   "cell_type": "code",
   "execution_count": 104,
   "metadata": {},
   "outputs": [],
   "source": [
    "def extract_feat(path, label, n_mfcc=20):\n",
    "    #load data\n",
    "    y, sr = librosa.load(path, res_type=\"kaiser_fast\")\n",
    "    mfcc = np.mean(librosa.feature.mfcc(y=y, sr=sr, n_mfcc=n_mfcc).T, axis=0)\n",
    "    return mfcc"
   ]
  },
  {
   "cell_type": "code",
   "execution_count": 113,
   "metadata": {},
   "outputs": [],
   "source": [
    "features={}\n",
    "df = pd.read_csv(f\"{AUDIO_PATH}/other.tsv\", sep='\\t')\n",
    "label = df['gender']\n",
    "for audios in df['path']:\n",
    "    audio_path = f\"{AUDIO_PATH}/clips/{audios}\"\n",
    "    gender_label = df[df['path']==audios]\n",
    "    features[audios] = extract_feat(audio_path, gender_label)\n",
    "\n"
   ]
  },
  {
   "cell_type": "code",
   "execution_count": 115,
   "metadata": {},
   "outputs": [],
   "source": [
    "num = np.array(list(features.values()))\n",
    "e_df = pd.DataFrame(num)\n",
    "e_df['gender'] = (df['gender']=='male').astype(int)\n",
    "e_df.to_csv('new.csv', index=False)"
   ]
  },
  {
   "cell_type": "code",
   "execution_count": null,
   "metadata": {},
   "outputs": [],
   "source": []
  }
 ],
 "metadata": {
  "kernelspec": {
   "display_name": "Python 3 (ipykernel)",
   "language": "python",
   "name": "python3"
  },
  "language_info": {
   "codemirror_mode": {
    "name": "ipython",
    "version": 3
   },
   "file_extension": ".py",
   "mimetype": "text/x-python",
   "name": "python",
   "nbconvert_exporter": "python",
   "pygments_lexer": "ipython3",
   "version": "3.11.5"
  }
 },
 "nbformat": 4,
 "nbformat_minor": 4
}
