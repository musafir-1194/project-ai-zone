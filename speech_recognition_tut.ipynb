{
  "nbformat": 4,
  "nbformat_minor": 0,
  "metadata": {
    "colab": {
      "provenance": [],
      "authorship_tag": "ABX9TyMgHayQDU7bJAeXD/O/Ffjs",
      "include_colab_link": true
    },
    "kernelspec": {
      "name": "python3",
      "display_name": "Python 3"
    },
    "language_info": {
      "name": "python"
    }
  },
  "cells": [
    {
      "cell_type": "markdown",
      "metadata": {
        "id": "view-in-github",
        "colab_type": "text"
      },
      "source": [
        "<a href=\"https://colab.research.google.com/github/musafir-1194/speech-recognition-tut/blob/main/speech_recognition_tut.ipynb\" target=\"_parent\"><img src=\"https://colab.research.google.com/assets/colab-badge.svg\" alt=\"Open In Colab\"/></a>"
      ]
    },
    {
      "cell_type": "code",
      "execution_count": null,
      "metadata": {
        "id": "OUPC4vmHJfwz"
      },
      "outputs": [],
      "source": [
        "import wave"
      ]
    },
    {
      "cell_type": "code",
      "source": [
        "## Audio signal paramters\n",
        "# - number of channels\n",
        "# - sample widht\n",
        "# - framerate / sample_rate : 44, 100 Hz\n",
        "# - number of frames\n",
        "# - values of a frame"
      ],
      "metadata": {
        "id": "znVnWcYtJtya"
      },
      "execution_count": null,
      "outputs": []
    },
    {
      "cell_type": "code",
      "source": [],
      "metadata": {
        "id": "vMD2-WOoKupg"
      },
      "execution_count": null,
      "outputs": []
    }
  ]
}