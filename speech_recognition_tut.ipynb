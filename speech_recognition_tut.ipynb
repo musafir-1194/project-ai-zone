{
  "cells": [
    {
      "cell_type": "markdown",
      "metadata": {
        "colab_type": "text",
        "id": "view-in-github"
      },
      "source": [
        "<a href=\"https://colab.research.google.com/github/musafir-1194/speech-recognition-tut/blob/main/speech_recognition_tut.ipynb\" target=\"_parent\"><img src=\"https://colab.research.google.com/assets/colab-badge.svg\" alt=\"Open In Colab\"/></a>"
      ]
    },
    {
      "cell_type": "code",
      "execution_count": 27,
      "metadata": {
        "id": "OUPC4vmHJfwz"
      },
      "outputs": [],
      "source": [
        "import wave"
      ]
    },
    {
      "cell_type": "code",
      "execution_count": 28,
      "metadata": {
        "id": "znVnWcYtJtya"
      },
      "outputs": [],
      "source": [
        "## Audio signal paramters\n",
        "# - number of channels\n",
        "# - sample widht\n",
        "# - framerate / sample_rate : 44, 100 Hz\n",
        "# - number of frames\n",
        "# - values of a frame"
      ]
    },
    {
      "cell_type": "code",
      "execution_count": 29,
      "metadata": {
        "id": "vMD2-WOoKupg"
      },
      "outputs": [],
      "source": [
        "obj = wave.open('speech-data/03-01-05-01-02-02-01.wav', 'rb')"
      ]
    },
    {
      "cell_type": "code",
      "execution_count": 30,
      "metadata": {
        "colab": {
          "base_uri": "https://localhost:8080/"
        },
        "id": "-xWiMTBhMcTx",
        "outputId": "6103b170-38ee-4f2f-e2a7-0445db4fb76a"
      },
      "outputs": [
        {
          "name": "stdout",
          "output_type": "stream",
          "text": [
            "Number of channels:  1\n",
            "Sample width:  2\n",
            "Frame rate:  48000\n",
            "Number of frames:  179379\n",
            "Parameters:  _wave_params(nchannels=1, sampwidth=2, framerate=48000, nframes=179379, comptype='NONE', compname='not compressed')\n",
            "Audio time:  3.7370625\n"
          ]
        }
      ],
      "source": [
        "print('Number of channels: ', obj.getnchannels())\n",
        "print('Sample width: ', obj.getsampwidth())\n",
        "print('Frame rate: ', obj.getframerate())\n",
        "print('Number of frames: ', obj.getnframes())\n",
        "print('Parameters: ', obj.getparams())\n",
        "\n",
        "# get time of the audio - will be in seconds\n",
        "audio_time = obj.getnframes() / obj.getframerate()\n",
        "print('Audio time: ', audio_time)"
      ]
    },
    {
      "cell_type": "code",
      "execution_count": 31,
      "metadata": {
        "colab": {
          "base_uri": "https://localhost:8080/"
        },
        "id": "NDlRr36ZMzwI",
        "outputId": "167ad464-6893-41ff-8940-88cdfde9b4e0"
      },
      "outputs": [
        {
          "name": "stdout",
          "output_type": "stream",
          "text": [
            "<class 'bytes'> <class 'int'>\n",
            "179379.0\n"
          ]
        }
      ],
      "source": [
        "frames = obj.readframes(-1)\n",
        "print(type(frames), type(frames[0]))\n",
        "print(len(frames) / 2)"
      ]
    },
    {
      "cell_type": "code",
      "execution_count": 32,
      "metadata": {
        "id": "vShFERaBNabR"
      },
      "outputs": [],
      "source": [
        "obj.close()"
      ]
    },
    {
      "cell_type": "code",
      "execution_count": 33,
      "metadata": {
        "id": "Vk-Exc3OO29g"
      },
      "outputs": [],
      "source": [
        "import wave\n",
        "import matplotlib.pyplot as plt\n",
        "import numpy as np"
      ]
    },
    {
      "cell_type": "code",
      "execution_count": 34,
      "metadata": {
        "id": "YwRyxXQFPixX"
      },
      "outputs": [],
      "source": [
        "obj = wave.open('speech-data/03-01-05-01-02-02-01.wav', 'rb')"
      ]
    },
    {
      "cell_type": "code",
      "execution_count": 35,
      "metadata": {
        "id": "oSDf_IuVPn-3"
      },
      "outputs": [],
      "source": [
        "sample_freq = obj.getframerate()\n",
        "n_samples = obj.getnframes()\n",
        "signal_wave = obj.readframes(-1)\n",
        "\n",
        "obj.close()"
      ]
    },
    {
      "cell_type": "code",
      "execution_count": 36,
      "metadata": {
        "colab": {
          "base_uri": "https://localhost:8080/"
        },
        "id": "bdxH4Q7fPzQ6",
        "outputId": "8c12e9d4-72e6-488f-e328-674735f55404"
      },
      "outputs": [
        {
          "name": "stdout",
          "output_type": "stream",
          "text": [
            "3.7370625\n"
          ]
        }
      ],
      "source": [
        "t_audio = n_samples / sample_freq\n",
        "print(t_audio)"
      ]
    },
    {
      "cell_type": "code",
      "execution_count": 37,
      "metadata": {
        "id": "pzri5OUNP4m_"
      },
      "outputs": [],
      "source": [
        "signal_array = np.frombuffer(signal_wave, dtype=np.int16)\n",
        "times = np.linspace(0, t_audio, num = n_samples)"
      ]
    },
    {
      "cell_type": "code",
      "execution_count": 38,
      "metadata": {
        "colab": {
          "base_uri": "https://localhost:8080/",
          "height": 396
        },
        "id": "UhJ4TkHVQr1Z",
        "outputId": "824b7dec-7894-4f5b-f843-5624cf483f5c"
      },
      "outputs": [
        {
          "data": {
            "image/png": "[encoded data removed]",
            "text/plain": [
              "<Figure size 1500x500 with 1 Axes>"
            ]
          },
          "metadata": {},
          "output_type": "display_data"
        }
      ],
      "source": [
        "plt.figure(figsize=(15, 5))\n",
        "plt.plot(times, signal_array)\n",
        "plt.title('Audio signal')\n",
        "plt.ylabel('Signal wave')\n",
        "plt.xlabel('Time (s)')\n",
        "plt.xlim(0, t_audio)\n",
        "plt.show()"
      ]
    },
    {
      "cell_type": "code",
      "execution_count": 6,
      "metadata": {
        "colab": {
          "base_uri": "https://localhost:8080/",
          "height": 383
        },
        "id": "zYg_FjZERGfZ",
        "outputId": "618ae36b-4c99-4db6-bfe1-0cb6509a4f82"
      },
      "outputs": [
        {
          "name": "stdout",
          "output_type": "stream",
          "text": [
            "start recoding ...\n"
          ]
        }
      ],
      "source": [
        "# Recording\n",
        "import pyaudio\n",
        "import wave\n",
        "FRAMES_PER_BUFFER = 3200\n",
        "FORMAT = pyaudio.paInt16\n",
        "CHANNELS = 1\n",
        "RATE = 16000\n",
        "\n",
        "p = pyaudio.PyAudio()\n",
        "\n",
        "stream = p.open(\n",
        "    format=FORMAT,\n",
        "    channels=CHANNELS,\n",
        "    rate=RATE,\n",
        "    input=True,\n",
        "    frames_per_buffer=FRAMES_PER_BUFFER\n",
        ")\n",
        "\n",
        "print('start recoding ...')\n",
        "\n",
        "seconds = 5\n",
        "frames = []\n",
        "for i in range(0, int(RATE / FRAMES_PER_BUFFER * seconds)):\n",
        "  data = stream.read(FRAMES_PER_BUFFER)\n",
        "  frames.append(data)\n",
        "\n",
        "stream.stop_stream()\n",
        "stream.close()\n",
        "p.terminate()\n",
        "\n",
        "obj = wave.open('ouput.wave', 'wb')\n",
        "obj.setnchannels(CHANNELS)\n",
        "obj.setsampwidth(p.get_sample_size(FORMAT))\n",
        "obj.setframerate(RATE)\n",
        "obj.writeframes(b\"\".join(frames))"
      ]
    },
    {
      "cell_type": "code",
      "execution_count": 7,
      "metadata": {
        "id": "6gnnVgYeStHZ"
      },
      "outputs": [],
      "source": [
        "# Speech Recognition\n",
        "### Collecting a dataset of speech signals from male and female speakers, and labeling them accordingly.\n",
        "### Extracting features from the speech signals, such as pitch, frequency, energy, zero-crossing rate, cepstral coefficients, etc\n",
        "#### These features can capture the differences between male and female voices, such as vocal tract length, vocal fold thickness, etc.\n",
        "### Normalizing and scaling the features to make them comparable and reduce the effect of outliers.\n",
        "### "
      ]
    },
    {
      "cell_type": "markdown",
      "metadata": {},
      "source": []
    },
    {
      "cell_type": "code",
      "execution_count": null,
      "metadata": {
        "id": "NWQzT3fvSynY"
      },
      "outputs": [],
      "source": []
    }
  ],
  "metadata": {
    "colab": {
      "authorship_tag": "ABX9TyOeh7I93hSaG9/A3QYNcIrw",
      "include_colab_link": true,
      "provenance": []
    },
    "kernelspec": {
      "display_name": "Python 3",
      "name": "python3"
    },
    "language_info": {
      "codemirror_mode": {
        "name": "ipython",
        "version": 3
      },
      "file_extension": ".py",
      "mimetype": "text/x-python",
      "name": "python",
      "nbconvert_exporter": "python",
      "pygments_lexer": "ipython3",
      "version": "3.11.5"
    }
  },
  "nbformat": 4,
  "nbformat_minor": 0
}
